{
 "cells": [
  {
   "cell_type": "markdown",
   "metadata": {},
   "source": [
    "### RL Q-Learning Example"
   ]
  },
  {
   "cell_type": "code",
   "execution_count": 8,
   "metadata": {},
   "outputs": [
    {
     "name": "stdout",
     "output_type": "stream",
     "text": [
      "\n",
      "    ----------------------------------------------------\n",
      "    |                                                   | \n",
      "    |     R1               R2                    R3     | \n",
      "    |                                                   |\n",
      "    |-------------                          |           |\n",
      "    |            |                          |           |\n",
      "    |     R4     |         R5               |    R6*    |\n",
      "    |            |                          |           |\n",
      "    |            |                           -----------|\n",
      "    |                                                   |\n",
      "    |     R7               R8                    R9     |\n",
      "    |                                                   |\n",
      "    ----------------------------------------------------\n",
      "    \n"
     ]
    }
   ],
   "source": [
    "# the goal is that reaching the topmost point, R6 for this case from arbitrary point\n",
    "print(\n",
    "    \"\"\"\n",
    "    ----------------------------------------------------\n",
    "    |                                                   | \n",
    "    |     R1               R2                    R3     | \n",
    "    |                                                   |\n",
    "    |-------------                          |           |\n",
    "    |            |                          |           |\n",
    "    |     R4     |         R5               |    R6     |\n",
    "    |            |                          |           |\n",
    "    |            |                           -----------|\n",
    "    |                                                   |\n",
    "    |     R7               R8                    R9     |\n",
    "    |                                                   |\n",
    "    ----------------------------------------------------\n",
    "    \"\"\"\n",
    ")"
   ]
  },
  {
   "cell_type": "code",
   "execution_count": 32,
   "metadata": {},
   "outputs": [],
   "source": [
    "# import numpy\n",
    "import numpy as np"
   ]
  },
  {
   "cell_type": "code",
   "execution_count": 33,
   "metadata": {},
   "outputs": [],
   "source": [
    "# define the Q-Learning params\n",
    "\n",
    "# discount factor\n",
    "gamma = 0.75\n",
    "\n",
    "# learning rate\n",
    "alpha = 0.9"
   ]
  },
  {
   "cell_type": "code",
   "execution_count": 34,
   "metadata": {},
   "outputs": [],
   "source": [
    "# states\n",
    "\n",
    "states = {\n",
    "    'R1' : 0,\n",
    "    'R2' : 1,\n",
    "    'R3' : 2,\n",
    "    'R4' : 3,\n",
    "    'R5' : 4,\n",
    "    'R6' : 5,\n",
    "    'R7' : 6,\n",
    "    'R8' : 7,\n",
    "    'R9' : 8\n",
    "}"
   ]
  },
  {
   "cell_type": "code",
   "execution_count": 35,
   "metadata": {},
   "outputs": [],
   "source": [
    "# actions\n",
    "\n",
    "actions = [0,1,2,3,4,5,6,7,8]"
   ]
  },
  {
   "cell_type": "code",
   "execution_count": 36,
   "metadata": {},
   "outputs": [],
   "source": [
    "# rewards\n",
    "\n",
    "rewards = np.array([[0,1,0,0,0,0,0,0,0],\n",
    "                    [1,0,1,0,0,0,0,0,0],\n",
    "                    [0,1,0,0,0,1,0,0,0],\n",
    "                    [0,0,0,0,0,0,1,0,0],\n",
    "                    [0,1,0,0,0,0,0,1,0],\n",
    "                    [0,0,1,0,0,0,0,0,0],\n",
    "                    [0,0,0,1,0,0,0,1,0],\n",
    "                    [0,0,0,0,1,0,1,0,1],\n",
    "                    [0,0,0,0,0,0,0,1,0]])"
   ]
  },
  {
   "cell_type": "code",
   "execution_count": 37,
   "metadata": {},
   "outputs": [],
   "source": [
    "# Maps indices to locations\n",
    "\n",
    "state_to_location = dict((state,location) for location,state in states.items())"
   ]
  },
  {
   "cell_type": "code",
   "execution_count": 38,
   "metadata": {},
   "outputs": [],
   "source": [
    "# Define the actions\n",
    "actions = [0,1,2,3,4,5,6,7,8]"
   ]
  },
  {
   "cell_type": "code",
   "execution_count": 39,
   "metadata": {},
   "outputs": [
    {
     "data": {
      "text/plain": [
       "'\\nwrite a function that \\nINPUTS\\n- start point\\n- end point\\nOUTPUT\\n- optimal route for reaching the end location from the starting location\\n'"
      ]
     },
     "execution_count": 39,
     "metadata": {},
     "output_type": "execute_result"
    }
   ],
   "source": [
    "\"\"\"\n",
    "write a function that \n",
    "INPUTS\n",
    "- start point\n",
    "- end point\n",
    "OUTPUT\n",
    "- optimal route for reaching the end location from the starting location\n",
    "\"\"\""
   ]
  },
  {
   "cell_type": "code",
   "execution_count": 42,
   "metadata": {},
   "outputs": [],
   "source": [
    "# the function\n",
    "\n",
    "def get_route(start_node,end_node):\n",
    "    # copy rewards to set the priority according to user sended end node\n",
    "    new_rewards = np.copy(rewards)\n",
    "    end_state = states[end_node]\n",
    "    new_rewards[end_state,end_state] = 99\n",
    "\n",
    "    # Q-Learning\n",
    "    Q = np.array(np.zeros([9,9]))\n",
    "\n",
    "    for i in range(1000):\n",
    "        current_state = np.random.randint(0,9)\n",
    "        traversable_actions = []\n",
    "        for j in range(9):\n",
    "            if(new_rewards[current_state,j] > 0):\n",
    "                traversable_actions.append(j)\n",
    "        next_state = np.random.choice(traversable_actions)\n",
    "        # calculate the temporal difference\n",
    "        td = new_rewards[current_state,next_state] + gamma * Q[next_state,np.argmax(Q[next_state,])] - Q[current_state,next_state]\n",
    "        # update Q via Belmann Eqn.\n",
    "        Q[current_state,next_state] += alpha * td\n",
    "    \n",
    "    route = [start_node]\n",
    "    next_node = start_node\n",
    "    \n",
    "    while(next_node != end_node):\n",
    "        start_state = states[start_node]\n",
    "        next_state = np.argmax(Q[start_state,])\n",
    "        next_node = state_to_location[next_state]\n",
    "        route.append(next_node)\n",
    "        start_node = next_node\n",
    "    \n",
    "    return route"
   ]
  },
  {
   "cell_type": "code",
   "execution_count": 44,
   "metadata": {},
   "outputs": [
    {
     "name": "stdout",
     "output_type": "stream",
     "text": [
      "['R7', 'R8', 'R5', 'R2', 'R1']\n"
     ]
    }
   ],
   "source": [
    "# test\n",
    "print(get_route('R7', 'R1'))"
   ]
  }
 ],
 "metadata": {
  "kernelspec": {
   "display_name": "Python 3.6.9 64-bit",
   "language": "python",
   "name": "python3"
  },
  "language_info": {
   "codemirror_mode": {
    "name": "ipython",
    "version": 3
   },
   "file_extension": ".py",
   "mimetype": "text/x-python",
   "name": "python",
   "nbconvert_exporter": "python",
   "pygments_lexer": "ipython3",
   "version": "3.6.9"
  },
  "orig_nbformat": 4,
  "vscode": {
   "interpreter": {
    "hash": "31f2aee4e71d21fbe5cf8b01ff0e069b9275f58929596ceb00d14d90e3e16cd6"
   }
  }
 },
 "nbformat": 4,
 "nbformat_minor": 2
}
